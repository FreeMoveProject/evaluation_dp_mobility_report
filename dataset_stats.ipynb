{
 "cells": [
  {
   "cell_type": "code",
   "execution_count": 27,
   "metadata": {},
   "outputs": [],
   "source": [
    "import pandas as pd\n",
    "import geopandas as gpd"
   ]
  },
  {
   "cell_type": "markdown",
   "metadata": {},
   "source": [
    "# Dataset overview"
   ]
  },
  {
   "cell_type": "markdown",
   "metadata": {},
   "source": [
    "## Geolife"
   ]
  },
  {
   "cell_type": "code",
   "execution_count": 2,
   "metadata": {},
   "outputs": [],
   "source": [
    "# geolife\n",
    "df = pd.read_csv(\"data/processed/geolife.csv\")\n",
    "tessellation = gpd.read_file(\"data/processed/geolife_tessellation.gpkg\")"
   ]
  },
  {
   "cell_type": "code",
   "execution_count": 3,
   "metadata": {},
   "outputs": [
    {
     "name": "stdout",
     "output_type": "stream",
     "text": [
      "unique users\n"
     ]
    },
    {
     "data": {
      "text/plain": [
       "182"
      ]
     },
     "execution_count": 3,
     "metadata": {},
     "output_type": "execute_result"
    }
   ],
   "source": [
    "print(\"unique users\")\n",
    "df.uid.nunique()"
   ]
  },
  {
   "cell_type": "code",
   "execution_count": 4,
   "metadata": {},
   "outputs": [
    {
     "name": "stdout",
     "output_type": "stream",
     "text": [
      "unique trips\n"
     ]
    },
    {
     "data": {
      "text/plain": [
       "18670"
      ]
     },
     "execution_count": 4,
     "metadata": {},
     "output_type": "execute_result"
    }
   ],
   "source": [
    "print(\"unique trips\")\n",
    "df.groupby([\"uid\", \"tid\"]).nunique().count()[0]"
   ]
  },
  {
   "cell_type": "code",
   "execution_count": 5,
   "metadata": {},
   "outputs": [
    {
     "data": {
      "text/plain": [
       "0.45265131226566685"
      ]
     },
     "execution_count": 5,
     "metadata": {},
     "output_type": "execute_result"
    }
   ],
   "source": [
    "8451/18670"
   ]
  },
  {
   "cell_type": "code",
   "execution_count": 6,
   "metadata": {},
   "outputs": [
    {
     "data": {
      "text/plain": [
       "uid         9\n",
       "lat         9\n",
       "lng         9\n",
       "-           9\n",
       "Alt         9\n",
       "dayNo       9\n",
       "date        9\n",
       "time        9\n",
       "datetime    9\n",
       "dtype: int64"
      ]
     },
     "execution_count": 6,
     "metadata": {},
     "output_type": "execute_result"
    }
   ],
   "source": [
    "temp = df.groupby([\"uid\", \"tid\"]).count().groupby(\"uid\").count()\n",
    "temp.reset_index()[temp.lat > 400].count()"
   ]
  },
  {
   "cell_type": "code",
   "execution_count": 7,
   "metadata": {},
   "outputs": [
    {
     "name": "stdout",
     "output_type": "stream",
     "text": [
      "distribution of trips per user\n"
     ]
    },
    {
     "data": {
      "text/html": [
       "<div>\n",
       "<style scoped>\n",
       "    .dataframe tbody tr th:only-of-type {\n",
       "        vertical-align: middle;\n",
       "    }\n",
       "\n",
       "    .dataframe tbody tr th {\n",
       "        vertical-align: top;\n",
       "    }\n",
       "\n",
       "    .dataframe thead th {\n",
       "        text-align: right;\n",
       "    }\n",
       "</style>\n",
       "<table border=\"1\" class=\"dataframe\">\n",
       "  <thead>\n",
       "    <tr style=\"text-align: right;\">\n",
       "      <th></th>\n",
       "      <th>lat</th>\n",
       "      <th>lng</th>\n",
       "      <th>-</th>\n",
       "      <th>Alt</th>\n",
       "      <th>dayNo</th>\n",
       "      <th>date</th>\n",
       "      <th>time</th>\n",
       "      <th>datetime</th>\n",
       "    </tr>\n",
       "  </thead>\n",
       "  <tbody>\n",
       "    <tr>\n",
       "      <th>count</th>\n",
       "      <td>182.000000</td>\n",
       "      <td>182.000000</td>\n",
       "      <td>182.000000</td>\n",
       "      <td>182.000000</td>\n",
       "      <td>182.000000</td>\n",
       "      <td>182.000000</td>\n",
       "      <td>182.000000</td>\n",
       "      <td>182.000000</td>\n",
       "    </tr>\n",
       "    <tr>\n",
       "      <th>mean</th>\n",
       "      <td>102.582418</td>\n",
       "      <td>102.582418</td>\n",
       "      <td>102.582418</td>\n",
       "      <td>102.582418</td>\n",
       "      <td>102.582418</td>\n",
       "      <td>102.582418</td>\n",
       "      <td>102.582418</td>\n",
       "      <td>102.582418</td>\n",
       "    </tr>\n",
       "    <tr>\n",
       "      <th>std</th>\n",
       "      <td>250.063575</td>\n",
       "      <td>250.063575</td>\n",
       "      <td>250.063575</td>\n",
       "      <td>250.063575</td>\n",
       "      <td>250.063575</td>\n",
       "      <td>250.063575</td>\n",
       "      <td>250.063575</td>\n",
       "      <td>250.063575</td>\n",
       "    </tr>\n",
       "    <tr>\n",
       "      <th>min</th>\n",
       "      <td>1.000000</td>\n",
       "      <td>1.000000</td>\n",
       "      <td>1.000000</td>\n",
       "      <td>1.000000</td>\n",
       "      <td>1.000000</td>\n",
       "      <td>1.000000</td>\n",
       "      <td>1.000000</td>\n",
       "      <td>1.000000</td>\n",
       "    </tr>\n",
       "    <tr>\n",
       "      <th>25%</th>\n",
       "      <td>8.000000</td>\n",
       "      <td>8.000000</td>\n",
       "      <td>8.000000</td>\n",
       "      <td>8.000000</td>\n",
       "      <td>8.000000</td>\n",
       "      <td>8.000000</td>\n",
       "      <td>8.000000</td>\n",
       "      <td>8.000000</td>\n",
       "    </tr>\n",
       "    <tr>\n",
       "      <th>50%</th>\n",
       "      <td>27.500000</td>\n",
       "      <td>27.500000</td>\n",
       "      <td>27.500000</td>\n",
       "      <td>27.500000</td>\n",
       "      <td>27.500000</td>\n",
       "      <td>27.500000</td>\n",
       "      <td>27.500000</td>\n",
       "      <td>27.500000</td>\n",
       "    </tr>\n",
       "    <tr>\n",
       "      <th>75%</th>\n",
       "      <td>89.750000</td>\n",
       "      <td>89.750000</td>\n",
       "      <td>89.750000</td>\n",
       "      <td>89.750000</td>\n",
       "      <td>89.750000</td>\n",
       "      <td>89.750000</td>\n",
       "      <td>89.750000</td>\n",
       "      <td>89.750000</td>\n",
       "    </tr>\n",
       "    <tr>\n",
       "      <th>max</th>\n",
       "      <td>2153.000000</td>\n",
       "      <td>2153.000000</td>\n",
       "      <td>2153.000000</td>\n",
       "      <td>2153.000000</td>\n",
       "      <td>2153.000000</td>\n",
       "      <td>2153.000000</td>\n",
       "      <td>2153.000000</td>\n",
       "      <td>2153.000000</td>\n",
       "    </tr>\n",
       "  </tbody>\n",
       "</table>\n",
       "</div>"
      ],
      "text/plain": [
       "               lat          lng            -          Alt        dayNo  \\\n",
       "count   182.000000   182.000000   182.000000   182.000000   182.000000   \n",
       "mean    102.582418   102.582418   102.582418   102.582418   102.582418   \n",
       "std     250.063575   250.063575   250.063575   250.063575   250.063575   \n",
       "min       1.000000     1.000000     1.000000     1.000000     1.000000   \n",
       "25%       8.000000     8.000000     8.000000     8.000000     8.000000   \n",
       "50%      27.500000    27.500000    27.500000    27.500000    27.500000   \n",
       "75%      89.750000    89.750000    89.750000    89.750000    89.750000   \n",
       "max    2153.000000  2153.000000  2153.000000  2153.000000  2153.000000   \n",
       "\n",
       "              date         time     datetime  \n",
       "count   182.000000   182.000000   182.000000  \n",
       "mean    102.582418   102.582418   102.582418  \n",
       "std     250.063575   250.063575   250.063575  \n",
       "min       1.000000     1.000000     1.000000  \n",
       "25%       8.000000     8.000000     8.000000  \n",
       "50%      27.500000    27.500000    27.500000  \n",
       "75%      89.750000    89.750000    89.750000  \n",
       "max    2153.000000  2153.000000  2153.000000  "
      ]
     },
     "execution_count": 7,
     "metadata": {},
     "output_type": "execute_result"
    }
   ],
   "source": [
    "print(\"distribution of trips per user\")\n",
    "df.groupby([\"uid\", \"tid\"]).count().groupby(\"uid\").count().describe()"
   ]
  },
  {
   "cell_type": "code",
   "execution_count": 8,
   "metadata": {},
   "outputs": [
    {
     "name": "stdout",
     "output_type": "stream",
     "text": [
      "tile count and average tile area in square km\n"
     ]
    },
    {
     "data": {
      "text/plain": [
       "count    962.000000\n",
       "mean       3.707657\n",
       "std        0.017072\n",
       "min        3.668081\n",
       "25%        3.695164\n",
       "50%        3.707726\n",
       "75%        3.720154\n",
       "max        3.746816\n",
       "dtype: float64"
      ]
     },
     "execution_count": 8,
     "metadata": {},
     "output_type": "execute_result"
    }
   ],
   "source": [
    "print(\"tile count and average tile area in square km\")\n",
    "(tessellation.to_crs(21459).area / 1000000).describe()"
   ]
  },
  {
   "cell_type": "code",
   "execution_count": 9,
   "metadata": {},
   "outputs": [
    {
     "name": "stdout",
     "output_type": "stream",
     "text": [
      "total tile area in square km\n"
     ]
    },
    {
     "data": {
      "text/plain": [
       "3566.7659211465716"
      ]
     },
     "execution_count": 9,
     "metadata": {},
     "output_type": "execute_result"
    }
   ],
   "source": [
    "print(\"total tile area in square km\")\n",
    "tessellation.to_crs(21459).area.sum() / 1000000"
   ]
  },
  {
   "cell_type": "markdown",
   "metadata": {},
   "source": [
    "## Berlin"
   ]
  },
  {
   "cell_type": "code",
   "execution_count": 76,
   "metadata": {},
   "outputs": [],
   "source": [
    "df = pd.read_csv(\"data/processed/berlin.csv\", dtype = {'tile_id': str})\n",
    "tessellation = gpd.read_file(\"data/processed/berlin_tessellation.gpkg\")"
   ]
  },
  {
   "cell_type": "code",
   "execution_count": 33,
   "metadata": {},
   "outputs": [
    {
     "name": "stdout",
     "output_type": "stream",
     "text": [
      "unique users\n"
     ]
    },
    {
     "data": {
      "text/plain": [
       "378759"
      ]
     },
     "execution_count": 33,
     "metadata": {},
     "output_type": "execute_result"
    }
   ],
   "source": [
    "print(\"unique users\")\n",
    "df.uid.nunique()"
   ]
  },
  {
   "cell_type": "code",
   "execution_count": 34,
   "metadata": {},
   "outputs": [
    {
     "name": "stdout",
     "output_type": "stream",
     "text": [
      "unique trips\n"
     ]
    },
    {
     "data": {
      "text/plain": [
       "1417134"
      ]
     },
     "execution_count": 34,
     "metadata": {},
     "output_type": "execute_result"
    }
   ],
   "source": [
    "print(\"unique trips\")\n",
    "df.groupby([\"uid\", \"tid\"]).nunique().count()[0]"
   ]
  },
  {
   "cell_type": "code",
   "execution_count": 35,
   "metadata": {},
   "outputs": [
    {
     "name": "stdout",
     "output_type": "stream",
     "text": [
      "distribution of trips per user\n"
     ]
    },
    {
     "data": {
      "text/html": [
       "<div>\n",
       "<style scoped>\n",
       "    .dataframe tbody tr th:only-of-type {\n",
       "        vertical-align: middle;\n",
       "    }\n",
       "\n",
       "    .dataframe tbody tr th {\n",
       "        vertical-align: top;\n",
       "    }\n",
       "\n",
       "    .dataframe thead th {\n",
       "        text-align: right;\n",
       "    }\n",
       "</style>\n",
       "<table border=\"1\" class=\"dataframe\">\n",
       "  <thead>\n",
       "    <tr style=\"text-align: right;\">\n",
       "      <th></th>\n",
       "      <th>lng</th>\n",
       "      <th>lat</th>\n",
       "      <th>datetime</th>\n",
       "      <th>traffic_mode</th>\n",
       "    </tr>\n",
       "  </thead>\n",
       "  <tbody>\n",
       "    <tr>\n",
       "      <th>count</th>\n",
       "      <td>378759.000000</td>\n",
       "      <td>378759.000000</td>\n",
       "      <td>378759.000000</td>\n",
       "      <td>378759.000000</td>\n",
       "    </tr>\n",
       "    <tr>\n",
       "      <th>mean</th>\n",
       "      <td>3.741519</td>\n",
       "      <td>3.741519</td>\n",
       "      <td>3.741519</td>\n",
       "      <td>3.741519</td>\n",
       "    </tr>\n",
       "    <tr>\n",
       "      <th>std</th>\n",
       "      <td>1.802168</td>\n",
       "      <td>1.802168</td>\n",
       "      <td>1.802168</td>\n",
       "      <td>1.802168</td>\n",
       "    </tr>\n",
       "    <tr>\n",
       "      <th>min</th>\n",
       "      <td>2.000000</td>\n",
       "      <td>2.000000</td>\n",
       "      <td>2.000000</td>\n",
       "      <td>2.000000</td>\n",
       "    </tr>\n",
       "    <tr>\n",
       "      <th>25%</th>\n",
       "      <td>2.000000</td>\n",
       "      <td>2.000000</td>\n",
       "      <td>2.000000</td>\n",
       "      <td>2.000000</td>\n",
       "    </tr>\n",
       "    <tr>\n",
       "      <th>50%</th>\n",
       "      <td>4.000000</td>\n",
       "      <td>4.000000</td>\n",
       "      <td>4.000000</td>\n",
       "      <td>4.000000</td>\n",
       "    </tr>\n",
       "    <tr>\n",
       "      <th>75%</th>\n",
       "      <td>5.000000</td>\n",
       "      <td>5.000000</td>\n",
       "      <td>5.000000</td>\n",
       "      <td>5.000000</td>\n",
       "    </tr>\n",
       "    <tr>\n",
       "      <th>max</th>\n",
       "      <td>16.000000</td>\n",
       "      <td>16.000000</td>\n",
       "      <td>16.000000</td>\n",
       "      <td>16.000000</td>\n",
       "    </tr>\n",
       "  </tbody>\n",
       "</table>\n",
       "</div>"
      ],
      "text/plain": [
       "                 lng            lat       datetime   traffic_mode\n",
       "count  378759.000000  378759.000000  378759.000000  378759.000000\n",
       "mean        3.741519       3.741519       3.741519       3.741519\n",
       "std         1.802168       1.802168       1.802168       1.802168\n",
       "min         2.000000       2.000000       2.000000       2.000000\n",
       "25%         2.000000       2.000000       2.000000       2.000000\n",
       "50%         4.000000       4.000000       4.000000       4.000000\n",
       "75%         5.000000       5.000000       5.000000       5.000000\n",
       "max        16.000000      16.000000      16.000000      16.000000"
      ]
     },
     "execution_count": 35,
     "metadata": {},
     "output_type": "execute_result"
    }
   ],
   "source": [
    "print(\"distribution of trips per user\")\n",
    "df.groupby([\"uid\", \"tid\"]).count().groupby(\"uid\").count().describe()"
   ]
  },
  {
   "cell_type": "code",
   "execution_count": 14,
   "metadata": {},
   "outputs": [
    {
     "name": "stdout",
     "output_type": "stream",
     "text": [
      "tile count and average tile area in square km\n"
     ]
    },
    {
     "data": {
      "text/plain": [
       "count    386.000000\n",
       "mean       2.308543\n",
       "std        2.529603\n",
       "min        0.115578\n",
       "25%        0.899135\n",
       "50%        1.555234\n",
       "75%        2.721739\n",
       "max       18.449806\n",
       "dtype: float64"
      ]
     },
     "execution_count": 14,
     "metadata": {},
     "output_type": "execute_result"
    }
   ],
   "source": [
    "print(\"tile count and average tile area in square km\")\n",
    "(tessellation.to_crs(3035).area / 1000000).describe()"
   ]
  },
  {
   "cell_type": "code",
   "execution_count": 15,
   "metadata": {},
   "outputs": [
    {
     "name": "stdout",
     "output_type": "stream",
     "text": [
      "total tile area in square km\n"
     ]
    },
    {
     "data": {
      "text/plain": [
       "891.097590393578"
      ]
     },
     "execution_count": 15,
     "metadata": {},
     "output_type": "execute_result"
    }
   ],
   "source": [
    "print(\"total tile area in square km\")\n",
    "tessellation.to_crs(3035).area.sum() / 1000000"
   ]
  },
  {
   "cell_type": "code",
   "execution_count": 36,
   "metadata": {},
   "outputs": [
    {
     "data": {
      "text/html": [
       "<div>\n",
       "<style scoped>\n",
       "    .dataframe tbody tr th:only-of-type {\n",
       "        vertical-align: middle;\n",
       "    }\n",
       "\n",
       "    .dataframe tbody tr th {\n",
       "        vertical-align: top;\n",
       "    }\n",
       "\n",
       "    .dataframe thead th {\n",
       "        text-align: right;\n",
       "    }\n",
       "</style>\n",
       "<table border=\"1\" class=\"dataframe\">\n",
       "  <thead>\n",
       "    <tr style=\"text-align: right;\">\n",
       "      <th></th>\n",
       "      <th>uid</th>\n",
       "      <th>tid</th>\n",
       "      <th>lng</th>\n",
       "      <th>lat</th>\n",
       "      <th>datetime</th>\n",
       "      <th>traffic_mode</th>\n",
       "    </tr>\n",
       "  </thead>\n",
       "  <tbody>\n",
       "    <tr>\n",
       "      <th>0</th>\n",
       "      <td>101881652</td>\n",
       "      <td>0</td>\n",
       "      <td>13.349786</td>\n",
       "      <td>52.417182</td>\n",
       "      <td>2018-04-19 05:41:00</td>\n",
       "      <td>PT</td>\n",
       "    </tr>\n",
       "    <tr>\n",
       "      <th>1</th>\n",
       "      <td>101881652</td>\n",
       "      <td>0</td>\n",
       "      <td>13.284507</td>\n",
       "      <td>52.490389</td>\n",
       "      <td>2018-04-19 06:46:00</td>\n",
       "      <td>PT</td>\n",
       "    </tr>\n",
       "    <tr>\n",
       "      <th>2</th>\n",
       "      <td>101881652</td>\n",
       "      <td>1</td>\n",
       "      <td>13.349786</td>\n",
       "      <td>52.417182</td>\n",
       "      <td>2018-04-19 17:06:00</td>\n",
       "      <td>PT</td>\n",
       "    </tr>\n",
       "    <tr>\n",
       "      <th>3</th>\n",
       "      <td>101881652</td>\n",
       "      <td>1</td>\n",
       "      <td>13.284507</td>\n",
       "      <td>52.490389</td>\n",
       "      <td>2018-04-19 16:01:00</td>\n",
       "      <td>PT</td>\n",
       "    </tr>\n",
       "    <tr>\n",
       "      <th>4</th>\n",
       "      <td>101881652</td>\n",
       "      <td>2</td>\n",
       "      <td>13.349786</td>\n",
       "      <td>52.417182</td>\n",
       "      <td>2018-04-19 17:37:00</td>\n",
       "      <td>WALK</td>\n",
       "    </tr>\n",
       "  </tbody>\n",
       "</table>\n",
       "</div>"
      ],
      "text/plain": [
       "         uid  tid        lng        lat             datetime traffic_mode\n",
       "0  101881652    0  13.349786  52.417182  2018-04-19 05:41:00           PT\n",
       "1  101881652    0  13.284507  52.490389  2018-04-19 06:46:00           PT\n",
       "2  101881652    1  13.349786  52.417182  2018-04-19 17:06:00           PT\n",
       "3  101881652    1  13.284507  52.490389  2018-04-19 16:01:00           PT\n",
       "4  101881652    2  13.349786  52.417182  2018-04-19 17:37:00         WALK"
      ]
     },
     "execution_count": 36,
     "metadata": {},
     "output_type": "execute_result"
    }
   ],
   "source": [
    "df.head()"
   ]
  },
  {
   "cell_type": "code",
   "execution_count": 37,
   "metadata": {},
   "outputs": [
    {
     "data": {
      "text/html": [
       "<div>\n",
       "<style scoped>\n",
       "    .dataframe tbody tr th:only-of-type {\n",
       "        vertical-align: middle;\n",
       "    }\n",
       "\n",
       "    .dataframe tbody tr th {\n",
       "        vertical-align: top;\n",
       "    }\n",
       "\n",
       "    .dataframe thead th {\n",
       "        text-align: right;\n",
       "    }\n",
       "</style>\n",
       "<table border=\"1\" class=\"dataframe\">\n",
       "  <thead>\n",
       "    <tr style=\"text-align: right;\">\n",
       "      <th></th>\n",
       "      <th>tile_id</th>\n",
       "      <th>tile_name</th>\n",
       "      <th>geometry</th>\n",
       "    </tr>\n",
       "  </thead>\n",
       "  <tbody>\n",
       "    <tr>\n",
       "      <th>0</th>\n",
       "      <td>110400110</td>\n",
       "      <td>Wiebestraße / Huttenstraße</td>\n",
       "      <td>POLYGON ((13.32467 52.53087, 13.32465 52.53214...</td>\n",
       "    </tr>\n",
       "    <tr>\n",
       "      <th>1</th>\n",
       "      <td>110500120</td>\n",
       "      <td>Westhafen</td>\n",
       "      <td>POLYGON ((13.31751 52.53238, 13.31788 52.53243...</td>\n",
       "    </tr>\n",
       "    <tr>\n",
       "      <th>2</th>\n",
       "      <td>110400130</td>\n",
       "      <td>Quitzowstraße / Lehrter Straße</td>\n",
       "      <td>POLYGON ((13.34402 52.53649, 13.34359 52.53644...</td>\n",
       "    </tr>\n",
       "    <tr>\n",
       "      <th>3</th>\n",
       "      <td>110400140</td>\n",
       "      <td>Heidestraße / Sellerstraße</td>\n",
       "      <td>POLYGON ((13.37057 52.52706, 13.37095 52.52707...</td>\n",
       "    </tr>\n",
       "    <tr>\n",
       "      <th>4</th>\n",
       "      <td>110400210</td>\n",
       "      <td>Beusselstraße / Turmstraße</td>\n",
       "      <td>POLYGON ((13.32871 52.53308, 13.32868 52.53281...</td>\n",
       "    </tr>\n",
       "  </tbody>\n",
       "</table>\n",
       "</div>"
      ],
      "text/plain": [
       "     tile_id                       tile_name  \\\n",
       "0  110400110      Wiebestraße / Huttenstraße   \n",
       "1  110500120                       Westhafen   \n",
       "2  110400130  Quitzowstraße / Lehrter Straße   \n",
       "3  110400140      Heidestraße / Sellerstraße   \n",
       "4  110400210      Beusselstraße / Turmstraße   \n",
       "\n",
       "                                            geometry  \n",
       "0  POLYGON ((13.32467 52.53087, 13.32465 52.53214...  \n",
       "1  POLYGON ((13.31751 52.53238, 13.31788 52.53243...  \n",
       "2  POLYGON ((13.34402 52.53649, 13.34359 52.53644...  \n",
       "3  POLYGON ((13.37057 52.52706, 13.37095 52.52707...  \n",
       "4  POLYGON ((13.32871 52.53308, 13.32868 52.53281...  "
      ]
     },
     "execution_count": 37,
     "metadata": {},
     "output_type": "execute_result"
    }
   ],
   "source": [
    "tessellation.head()"
   ]
  },
  {
   "cell_type": "code",
   "execution_count": 39,
   "metadata": {},
   "outputs": [],
   "source": [
    "## add tile ID\n",
    "from shapely.geometry import Point\n",
    "def assign_points_to_tessellation(df, tessellation):\n",
    "    # TODO: add progress bar\n",
    "    gdf = gpd.GeoDataFrame(\n",
    "        df, geometry=[Point(xy) for xy in zip(df.lng, df.lat)], crs=\"EPSG:4326\"\n",
    "    )\n",
    "\n",
    "    # this take some time\n",
    "    df = gpd.sjoin(\n",
    "        tessellation[[\"tile_id\", \"tile_name\", \"geometry\"]], gdf, how=\"right\"\n",
    "    )  # Spatial join Points to polygons\n",
    "    df.drop([\"index_left\", \"geometry\"], axis=1, inplace=True)\n",
    "    return pd.DataFrame(df)\n",
    "\n",
    "df = assign_points_to_tessellation(df, tessellation)"
   ]
  },
  {
   "cell_type": "code",
   "execution_count": 41,
   "metadata": {},
   "outputs": [],
   "source": [
    "df.to_csv(\"data/processed/\" + \"berlin_w_tile_id\" + \".csv\", index=False)\n"
   ]
  },
  {
   "cell_type": "markdown",
   "metadata": {},
   "source": [
    "## Madrid"
   ]
  },
  {
   "cell_type": "code",
   "execution_count": 72,
   "metadata": {},
   "outputs": [],
   "source": [
    "df[\"tid_new\"] = df.sort_values(\"datetime\").groupby([\"uid\", \"tid\"]).ngroup()\n"
   ]
  },
  {
   "cell_type": "code",
   "execution_count": 59,
   "metadata": {},
   "outputs": [],
   "source": [
    "df[\"point_type\"] = \"start\"\n",
    "df.sort_values(\"datetime\", inplace=True)\n",
    "df.loc[df.groupby(\"tid\")[\"point_type\"].tail(1).index, \"point_type\"] = \"end\""
   ]
  },
  {
   "cell_type": "code",
   "execution_count": 69,
   "metadata": {},
   "outputs": [],
   "source": [
    "order = df[df.point_type == \"start\"].sort_values([\"uid\", \"datetime\"]).tid_new\n"
   ]
  },
  {
   "cell_type": "code",
   "execution_count": 70,
   "metadata": {},
   "outputs": [
    {
     "data": {
      "text/plain": [
       "31684         0\n",
       "31685         1\n",
       "31686         2\n",
       "31687         3\n",
       "31688         4\n",
       "          ...  \n",
       "31679    222739\n",
       "31680    222740\n",
       "31681    222741\n",
       "31682    222742\n",
       "31683    222743\n",
       "Name: tid_new, Length: 222744, dtype: int64"
      ]
     },
     "execution_count": 70,
     "metadata": {},
     "output_type": "execute_result"
    }
   ],
   "source": [
    "order"
   ]
  },
  {
   "cell_type": "code",
   "execution_count": 71,
   "metadata": {},
   "outputs": [
    {
     "ename": "ValueError",
     "evalue": "The truth value of a Series is ambiguous. Use a.empty, a.bool(), a.item(), a.any() or a.all().",
     "output_type": "error",
     "traceback": [
      "\u001b[0;31m---------------------------------------------------------------------------\u001b[0m",
      "\u001b[0;31mValueError\u001b[0m                                Traceback (most recent call last)",
      "\u001b[0;32m/var/folders/m7/jb7xk8h91p541g43zv2r8l740000gn/T/ipykernel_66371/1231417386.py\u001b[0m in \u001b[0;36m<module>\u001b[0;34m\u001b[0m\n\u001b[0;32m----> 1\u001b[0;31m \u001b[0mdf\u001b[0m\u001b[0;34m.\u001b[0m\u001b[0msort_values\u001b[0m\u001b[0;34m(\u001b[0m\u001b[0;34m\"tid_new\"\u001b[0m\u001b[0;34m,\u001b[0m \u001b[0mkey\u001b[0m \u001b[0;34m=\u001b[0m \u001b[0morder\u001b[0m\u001b[0;34m)\u001b[0m\u001b[0;34m\u001b[0m\u001b[0;34m\u001b[0m\u001b[0m\n\u001b[0m",
      "\u001b[0;32m~/opt/anaconda3/envs/md_report/lib/python3.9/site-packages/pandas/core/frame.py\u001b[0m in \u001b[0;36msort_values\u001b[0;34m(self, by, axis, ascending, inplace, kind, na_position, ignore_index, key)\u001b[0m\n\u001b[1;32m   5305\u001b[0m                 \u001b[0mascending\u001b[0m \u001b[0;34m=\u001b[0m \u001b[0mascending\u001b[0m\u001b[0;34m[\u001b[0m\u001b[0;36m0\u001b[0m\u001b[0;34m]\u001b[0m\u001b[0;34m\u001b[0m\u001b[0;34m\u001b[0m\u001b[0m\n\u001b[1;32m   5306\u001b[0m \u001b[0;34m\u001b[0m\u001b[0m\n\u001b[0;32m-> 5307\u001b[0;31m             indexer = nargsort(\n\u001b[0m\u001b[1;32m   5308\u001b[0m                 \u001b[0mk\u001b[0m\u001b[0;34m,\u001b[0m \u001b[0mkind\u001b[0m\u001b[0;34m=\u001b[0m\u001b[0mkind\u001b[0m\u001b[0;34m,\u001b[0m \u001b[0mascending\u001b[0m\u001b[0;34m=\u001b[0m\u001b[0mascending\u001b[0m\u001b[0;34m,\u001b[0m \u001b[0mna_position\u001b[0m\u001b[0;34m=\u001b[0m\u001b[0mna_position\u001b[0m\u001b[0;34m,\u001b[0m \u001b[0mkey\u001b[0m\u001b[0;34m=\u001b[0m\u001b[0mkey\u001b[0m\u001b[0;34m\u001b[0m\u001b[0;34m\u001b[0m\u001b[0m\n\u001b[1;32m   5309\u001b[0m             )\n",
      "\u001b[0;32m~/opt/anaconda3/envs/md_report/lib/python3.9/site-packages/pandas/core/sorting.py\u001b[0m in \u001b[0;36mnargsort\u001b[0;34m(items, kind, ascending, na_position, key)\u001b[0m\n\u001b[1;32m    278\u001b[0m \u001b[0;34m\u001b[0m\u001b[0m\n\u001b[1;32m    279\u001b[0m     \u001b[0;32mif\u001b[0m \u001b[0mkey\u001b[0m \u001b[0;32mis\u001b[0m \u001b[0;32mnot\u001b[0m \u001b[0;32mNone\u001b[0m\u001b[0;34m:\u001b[0m\u001b[0;34m\u001b[0m\u001b[0;34m\u001b[0m\u001b[0m\n\u001b[0;32m--> 280\u001b[0;31m         \u001b[0mitems\u001b[0m \u001b[0;34m=\u001b[0m \u001b[0mensure_key_mapped\u001b[0m\u001b[0;34m(\u001b[0m\u001b[0mitems\u001b[0m\u001b[0;34m,\u001b[0m \u001b[0mkey\u001b[0m\u001b[0;34m)\u001b[0m\u001b[0;34m\u001b[0m\u001b[0;34m\u001b[0m\u001b[0m\n\u001b[0m\u001b[1;32m    281\u001b[0m         return nargsort(\n\u001b[1;32m    282\u001b[0m             \u001b[0mitems\u001b[0m\u001b[0;34m,\u001b[0m \u001b[0mkind\u001b[0m\u001b[0;34m=\u001b[0m\u001b[0mkind\u001b[0m\u001b[0;34m,\u001b[0m \u001b[0mascending\u001b[0m\u001b[0;34m=\u001b[0m\u001b[0mascending\u001b[0m\u001b[0;34m,\u001b[0m \u001b[0mna_position\u001b[0m\u001b[0;34m=\u001b[0m\u001b[0mna_position\u001b[0m\u001b[0;34m,\u001b[0m \u001b[0mkey\u001b[0m\u001b[0;34m=\u001b[0m\u001b[0;32mNone\u001b[0m\u001b[0;34m\u001b[0m\u001b[0;34m\u001b[0m\u001b[0m\n",
      "\u001b[0;32m~/opt/anaconda3/envs/md_report/lib/python3.9/site-packages/pandas/core/sorting.py\u001b[0m in \u001b[0;36mensure_key_mapped\u001b[0;34m(values, key, levels)\u001b[0m\n\u001b[1;32m    405\u001b[0m     \u001b[0;32mfrom\u001b[0m \u001b[0mpandas\u001b[0m\u001b[0;34m.\u001b[0m\u001b[0mcore\u001b[0m\u001b[0;34m.\u001b[0m\u001b[0mindexes\u001b[0m\u001b[0;34m.\u001b[0m\u001b[0mapi\u001b[0m \u001b[0;32mimport\u001b[0m \u001b[0mIndex\u001b[0m\u001b[0;34m\u001b[0m\u001b[0;34m\u001b[0m\u001b[0m\n\u001b[1;32m    406\u001b[0m \u001b[0;34m\u001b[0m\u001b[0m\n\u001b[0;32m--> 407\u001b[0;31m     \u001b[0;32mif\u001b[0m \u001b[0;32mnot\u001b[0m \u001b[0mkey\u001b[0m\u001b[0;34m:\u001b[0m\u001b[0;34m\u001b[0m\u001b[0;34m\u001b[0m\u001b[0m\n\u001b[0m\u001b[1;32m    408\u001b[0m         \u001b[0;32mreturn\u001b[0m \u001b[0mvalues\u001b[0m\u001b[0;34m\u001b[0m\u001b[0;34m\u001b[0m\u001b[0m\n\u001b[1;32m    409\u001b[0m \u001b[0;34m\u001b[0m\u001b[0m\n",
      "\u001b[0;32m~/opt/anaconda3/envs/md_report/lib/python3.9/site-packages/pandas/core/generic.py\u001b[0m in \u001b[0;36m__nonzero__\u001b[0;34m(self)\u001b[0m\n\u001b[1;32m   1327\u001b[0m \u001b[0;34m\u001b[0m\u001b[0m\n\u001b[1;32m   1328\u001b[0m     \u001b[0;32mdef\u001b[0m \u001b[0m__nonzero__\u001b[0m\u001b[0;34m(\u001b[0m\u001b[0mself\u001b[0m\u001b[0;34m)\u001b[0m\u001b[0;34m:\u001b[0m\u001b[0;34m\u001b[0m\u001b[0;34m\u001b[0m\u001b[0m\n\u001b[0;32m-> 1329\u001b[0;31m         raise ValueError(\n\u001b[0m\u001b[1;32m   1330\u001b[0m             \u001b[0;34mf\"The truth value of a {type(self).__name__} is ambiguous. \"\u001b[0m\u001b[0;34m\u001b[0m\u001b[0;34m\u001b[0m\u001b[0m\n\u001b[1;32m   1331\u001b[0m             \u001b[0;34m\"Use a.empty, a.bool(), a.item(), a.any() or a.all().\"\u001b[0m\u001b[0;34m\u001b[0m\u001b[0;34m\u001b[0m\u001b[0m\n",
      "\u001b[0;31mValueError\u001b[0m: The truth value of a Series is ambiguous. Use a.empty, a.bool(), a.item(), a.any() or a.all()."
     ]
    }
   ],
   "source": [
    "df.sort_values(\"tid_new\", key = order)"
   ]
  },
  {
   "cell_type": "code",
   "execution_count": 60,
   "metadata": {},
   "outputs": [
    {
     "data": {
      "text/html": [
       "<div>\n",
       "<style scoped>\n",
       "    .dataframe tbody tr th:only-of-type {\n",
       "        vertical-align: middle;\n",
       "    }\n",
       "\n",
       "    .dataframe tbody tr th {\n",
       "        vertical-align: top;\n",
       "    }\n",
       "\n",
       "    .dataframe thead th {\n",
       "        text-align: right;\n",
       "    }\n",
       "</style>\n",
       "<table border=\"1\" class=\"dataframe\">\n",
       "  <thead>\n",
       "    <tr style=\"text-align: right;\">\n",
       "      <th></th>\n",
       "      <th>uid</th>\n",
       "      <th>tid</th>\n",
       "      <th>datetime</th>\n",
       "      <th>tile_id</th>\n",
       "      <th>lat</th>\n",
       "      <th>lng</th>\n",
       "      <th>tid_new</th>\n",
       "      <th>point_type</th>\n",
       "    </tr>\n",
       "  </thead>\n",
       "  <tbody>\n",
       "    <tr>\n",
       "      <th>52073</th>\n",
       "      <td>1734079_1</td>\n",
       "      <td>1734079_1_1</td>\n",
       "      <td>2018-02-08 09:00:00</td>\n",
       "      <td>079-21-576</td>\n",
       "      <td>40.474285</td>\n",
       "      <td>-3.591467</td>\n",
       "      <td>22925</td>\n",
       "      <td>start</td>\n",
       "    </tr>\n",
       "    <tr>\n",
       "      <th>52075</th>\n",
       "      <td>1734079_2</td>\n",
       "      <td>1734079_2_1</td>\n",
       "      <td>2018-02-08 09:00:00</td>\n",
       "      <td>079-21-576</td>\n",
       "      <td>40.474285</td>\n",
       "      <td>-3.591467</td>\n",
       "      <td>22927</td>\n",
       "      <td>start</td>\n",
       "    </tr>\n",
       "    <tr>\n",
       "      <th>274819</th>\n",
       "      <td>1734079_2</td>\n",
       "      <td>1734079_2_1</td>\n",
       "      <td>2018-02-08 09:20:00</td>\n",
       "      <td>079-05-101</td>\n",
       "      <td>40.441475</td>\n",
       "      <td>-3.682379</td>\n",
       "      <td>22927</td>\n",
       "      <td>end</td>\n",
       "    </tr>\n",
       "    <tr>\n",
       "      <th>274817</th>\n",
       "      <td>1734079_1</td>\n",
       "      <td>1734079_1_1</td>\n",
       "      <td>2018-02-08 09:40:00</td>\n",
       "      <td>049-005</td>\n",
       "      <td>40.428505</td>\n",
       "      <td>-3.560784</td>\n",
       "      <td>22925</td>\n",
       "      <td>end</td>\n",
       "    </tr>\n",
       "    <tr>\n",
       "      <th>52079</th>\n",
       "      <td>1734079_4</td>\n",
       "      <td>1734079_4_1</td>\n",
       "      <td>2018-02-08 09:50:00</td>\n",
       "      <td>079-21-576</td>\n",
       "      <td>40.474285</td>\n",
       "      <td>-3.591467</td>\n",
       "      <td>22931</td>\n",
       "      <td>start</td>\n",
       "    </tr>\n",
       "  </tbody>\n",
       "</table>\n",
       "</div>"
      ],
      "text/plain": [
       "              uid          tid             datetime     tile_id        lat  \\\n",
       "52073   1734079_1  1734079_1_1  2018-02-08 09:00:00  079-21-576  40.474285   \n",
       "52075   1734079_2  1734079_2_1  2018-02-08 09:00:00  079-21-576  40.474285   \n",
       "274819  1734079_2  1734079_2_1  2018-02-08 09:20:00  079-05-101  40.441475   \n",
       "274817  1734079_1  1734079_1_1  2018-02-08 09:40:00     049-005  40.428505   \n",
       "52079   1734079_4  1734079_4_1  2018-02-08 09:50:00  079-21-576  40.474285   \n",
       "\n",
       "             lng  tid_new point_type  \n",
       "52073  -3.591467    22925      start  \n",
       "52075  -3.591467    22927      start  \n",
       "274819 -3.682379    22927        end  \n",
       "274817 -3.560784    22925        end  \n",
       "52079  -3.591467    22931      start  "
      ]
     },
     "execution_count": 60,
     "metadata": {},
     "output_type": "execute_result"
    }
   ],
   "source": [
    "df.head()"
   ]
  },
  {
   "cell_type": "code",
   "execution_count": 57,
   "metadata": {},
   "outputs": [
    {
     "data": {
      "text/html": [
       "<div>\n",
       "<style scoped>\n",
       "    .dataframe tbody tr th:only-of-type {\n",
       "        vertical-align: middle;\n",
       "    }\n",
       "\n",
       "    .dataframe tbody tr th {\n",
       "        vertical-align: top;\n",
       "    }\n",
       "\n",
       "    .dataframe thead th {\n",
       "        text-align: right;\n",
       "    }\n",
       "</style>\n",
       "<table border=\"1\" class=\"dataframe\">\n",
       "  <thead>\n",
       "    <tr style=\"text-align: right;\">\n",
       "      <th></th>\n",
       "      <th>uid</th>\n",
       "      <th>tid</th>\n",
       "      <th>datetime</th>\n",
       "      <th>tile_id</th>\n",
       "      <th>lat</th>\n",
       "      <th>lng</th>\n",
       "      <th>tid_new</th>\n",
       "    </tr>\n",
       "  </thead>\n",
       "  <tbody>\n",
       "    <tr>\n",
       "      <th>31684</th>\n",
       "      <td>1000154_1</td>\n",
       "      <td>1000154_1_1</td>\n",
       "      <td>2018-05-24 16:30:00</td>\n",
       "      <td>079-16-457</td>\n",
       "      <td>40.459734</td>\n",
       "      <td>-3.649633</td>\n",
       "      <td>0</td>\n",
       "    </tr>\n",
       "    <tr>\n",
       "      <th>254428</th>\n",
       "      <td>1000154_1</td>\n",
       "      <td>1000154_1_1</td>\n",
       "      <td>2018-05-24 16:45:00</td>\n",
       "      <td>079-16-463</td>\n",
       "      <td>40.452502</td>\n",
       "      <td>-3.615535</td>\n",
       "      <td>0</td>\n",
       "    </tr>\n",
       "    <tr>\n",
       "      <th>31685</th>\n",
       "      <td>1000154_1</td>\n",
       "      <td>1000154_1_2</td>\n",
       "      <td>2018-05-24 22:00:00</td>\n",
       "      <td>079-16-463</td>\n",
       "      <td>40.452502</td>\n",
       "      <td>-3.615535</td>\n",
       "      <td>1</td>\n",
       "    </tr>\n",
       "    <tr>\n",
       "      <th>254429</th>\n",
       "      <td>1000154_1</td>\n",
       "      <td>1000154_1_2</td>\n",
       "      <td>2018-05-24 22:30:00</td>\n",
       "      <td>079-16-457</td>\n",
       "      <td>40.459734</td>\n",
       "      <td>-3.649633</td>\n",
       "      <td>1</td>\n",
       "    </tr>\n",
       "    <tr>\n",
       "      <th>254430</th>\n",
       "      <td>1000154_2</td>\n",
       "      <td>1000154_2_1</td>\n",
       "      <td>2018-05-24 18:30:00</td>\n",
       "      <td>079-01-014</td>\n",
       "      <td>40.417997</td>\n",
       "      <td>-3.701952</td>\n",
       "      <td>2</td>\n",
       "    </tr>\n",
       "    <tr>\n",
       "      <th>...</th>\n",
       "      <td>...</td>\n",
       "      <td>...</td>\n",
       "      <td>...</td>\n",
       "      <td>...</td>\n",
       "      <td>...</td>\n",
       "      <td>...</td>\n",
       "      <td>...</td>\n",
       "    </tr>\n",
       "    <tr>\n",
       "      <th>31681</th>\n",
       "      <td>999698_3</td>\n",
       "      <td>999698_3_2</td>\n",
       "      <td>2018-04-26 19:30:00</td>\n",
       "      <td>006-013B</td>\n",
       "      <td>40.530172</td>\n",
       "      <td>-3.639800</td>\n",
       "      <td>222741</td>\n",
       "    </tr>\n",
       "    <tr>\n",
       "      <th>254426</th>\n",
       "      <td>999766_1</td>\n",
       "      <td>999766_1_1</td>\n",
       "      <td>2018-04-23 09:00:00</td>\n",
       "      <td>079-16-458</td>\n",
       "      <td>40.461998</td>\n",
       "      <td>-3.642939</td>\n",
       "      <td>222742</td>\n",
       "    </tr>\n",
       "    <tr>\n",
       "      <th>31682</th>\n",
       "      <td>999766_1</td>\n",
       "      <td>999766_1_1</td>\n",
       "      <td>2018-04-23 08:30:00</td>\n",
       "      <td>079-15-419</td>\n",
       "      <td>40.434878</td>\n",
       "      <td>-3.638952</td>\n",
       "      <td>222742</td>\n",
       "    </tr>\n",
       "    <tr>\n",
       "      <th>31683</th>\n",
       "      <td>999766_1</td>\n",
       "      <td>999766_1_2</td>\n",
       "      <td>2018-04-23 13:30:00</td>\n",
       "      <td>079-16-458</td>\n",
       "      <td>40.461998</td>\n",
       "      <td>-3.642939</td>\n",
       "      <td>222743</td>\n",
       "    </tr>\n",
       "    <tr>\n",
       "      <th>254427</th>\n",
       "      <td>999766_1</td>\n",
       "      <td>999766_1_2</td>\n",
       "      <td>2018-04-23 14:00:00</td>\n",
       "      <td>079-15-419</td>\n",
       "      <td>40.434878</td>\n",
       "      <td>-3.638952</td>\n",
       "      <td>222743</td>\n",
       "    </tr>\n",
       "  </tbody>\n",
       "</table>\n",
       "<p>445488 rows × 7 columns</p>\n",
       "</div>"
      ],
      "text/plain": [
       "              uid          tid             datetime     tile_id        lat  \\\n",
       "31684   1000154_1  1000154_1_1  2018-05-24 16:30:00  079-16-457  40.459734   \n",
       "254428  1000154_1  1000154_1_1  2018-05-24 16:45:00  079-16-463  40.452502   \n",
       "31685   1000154_1  1000154_1_2  2018-05-24 22:00:00  079-16-463  40.452502   \n",
       "254429  1000154_1  1000154_1_2  2018-05-24 22:30:00  079-16-457  40.459734   \n",
       "254430  1000154_2  1000154_2_1  2018-05-24 18:30:00  079-01-014  40.417997   \n",
       "...           ...          ...                  ...         ...        ...   \n",
       "31681    999698_3   999698_3_2  2018-04-26 19:30:00    006-013B  40.530172   \n",
       "254426   999766_1   999766_1_1  2018-04-23 09:00:00  079-16-458  40.461998   \n",
       "31682    999766_1   999766_1_1  2018-04-23 08:30:00  079-15-419  40.434878   \n",
       "31683    999766_1   999766_1_2  2018-04-23 13:30:00  079-16-458  40.461998   \n",
       "254427   999766_1   999766_1_2  2018-04-23 14:00:00  079-15-419  40.434878   \n",
       "\n",
       "             lng  tid_new  \n",
       "31684  -3.649633        0  \n",
       "254428 -3.615535        0  \n",
       "31685  -3.615535        1  \n",
       "254429 -3.649633        1  \n",
       "254430 -3.701952        2  \n",
       "...          ...      ...  \n",
       "31681  -3.639800   222741  \n",
       "254426 -3.642939   222742  \n",
       "31682  -3.638952   222742  \n",
       "31683  -3.642939   222743  \n",
       "254427 -3.638952   222743  \n",
       "\n",
       "[445488 rows x 7 columns]"
      ]
     },
     "execution_count": 57,
     "metadata": {},
     "output_type": "execute_result"
    }
   ],
   "source": [
    "df.sort_values(\"tid_new\")"
   ]
  },
  {
   "cell_type": "code",
   "execution_count": 52,
   "metadata": {},
   "outputs": [],
   "source": [
    "df = pd.read_csv(\"data/processed/madrid.csv\")\n",
    "tessellation = gpd.read_file(\"data/processed/madrid_tessellation.gpkg\")"
   ]
  },
  {
   "cell_type": "code",
   "execution_count": 17,
   "metadata": {},
   "outputs": [
    {
     "name": "stdout",
     "output_type": "stream",
     "text": [
      "unique users\n"
     ]
    },
    {
     "data": {
      "text/plain": [
       "75208"
      ]
     },
     "execution_count": 17,
     "metadata": {},
     "output_type": "execute_result"
    }
   ],
   "source": [
    "print(\"unique users\")\n",
    "df.uid.nunique()"
   ]
  },
  {
   "cell_type": "code",
   "execution_count": 18,
   "metadata": {},
   "outputs": [
    {
     "name": "stdout",
     "output_type": "stream",
     "text": [
      "unique trips\n"
     ]
    },
    {
     "data": {
      "text/plain": [
       "222744"
      ]
     },
     "execution_count": 18,
     "metadata": {},
     "output_type": "execute_result"
    }
   ],
   "source": [
    "print(\"unique trips\")\n",
    "df.groupby([\"uid\", \"tid\"]).nunique().count()[0]"
   ]
  },
  {
   "cell_type": "code",
   "execution_count": 19,
   "metadata": {},
   "outputs": [
    {
     "name": "stdout",
     "output_type": "stream",
     "text": [
      "distribution of trips per user\n"
     ]
    },
    {
     "data": {
      "text/html": [
       "<div>\n",
       "<style scoped>\n",
       "    .dataframe tbody tr th:only-of-type {\n",
       "        vertical-align: middle;\n",
       "    }\n",
       "\n",
       "    .dataframe tbody tr th {\n",
       "        vertical-align: top;\n",
       "    }\n",
       "\n",
       "    .dataframe thead th {\n",
       "        text-align: right;\n",
       "    }\n",
       "</style>\n",
       "<table border=\"1\" class=\"dataframe\">\n",
       "  <thead>\n",
       "    <tr style=\"text-align: right;\">\n",
       "      <th></th>\n",
       "      <th>datetime</th>\n",
       "      <th>tile_id</th>\n",
       "      <th>lat</th>\n",
       "      <th>lng</th>\n",
       "    </tr>\n",
       "  </thead>\n",
       "  <tbody>\n",
       "    <tr>\n",
       "      <th>count</th>\n",
       "      <td>75208.000000</td>\n",
       "      <td>75208.000000</td>\n",
       "      <td>75208.000000</td>\n",
       "      <td>75208.000000</td>\n",
       "    </tr>\n",
       "    <tr>\n",
       "      <th>mean</th>\n",
       "      <td>2.961706</td>\n",
       "      <td>2.961706</td>\n",
       "      <td>2.961706</td>\n",
       "      <td>2.961706</td>\n",
       "    </tr>\n",
       "    <tr>\n",
       "      <th>std</th>\n",
       "      <td>1.498732</td>\n",
       "      <td>1.498732</td>\n",
       "      <td>1.498732</td>\n",
       "      <td>1.498732</td>\n",
       "    </tr>\n",
       "    <tr>\n",
       "      <th>min</th>\n",
       "      <td>1.000000</td>\n",
       "      <td>1.000000</td>\n",
       "      <td>1.000000</td>\n",
       "      <td>1.000000</td>\n",
       "    </tr>\n",
       "    <tr>\n",
       "      <th>25%</th>\n",
       "      <td>2.000000</td>\n",
       "      <td>2.000000</td>\n",
       "      <td>2.000000</td>\n",
       "      <td>2.000000</td>\n",
       "    </tr>\n",
       "    <tr>\n",
       "      <th>50%</th>\n",
       "      <td>2.000000</td>\n",
       "      <td>2.000000</td>\n",
       "      <td>2.000000</td>\n",
       "      <td>2.000000</td>\n",
       "    </tr>\n",
       "    <tr>\n",
       "      <th>75%</th>\n",
       "      <td>4.000000</td>\n",
       "      <td>4.000000</td>\n",
       "      <td>4.000000</td>\n",
       "      <td>4.000000</td>\n",
       "    </tr>\n",
       "    <tr>\n",
       "      <th>max</th>\n",
       "      <td>20.000000</td>\n",
       "      <td>20.000000</td>\n",
       "      <td>20.000000</td>\n",
       "      <td>20.000000</td>\n",
       "    </tr>\n",
       "  </tbody>\n",
       "</table>\n",
       "</div>"
      ],
      "text/plain": [
       "           datetime       tile_id           lat           lng\n",
       "count  75208.000000  75208.000000  75208.000000  75208.000000\n",
       "mean       2.961706      2.961706      2.961706      2.961706\n",
       "std        1.498732      1.498732      1.498732      1.498732\n",
       "min        1.000000      1.000000      1.000000      1.000000\n",
       "25%        2.000000      2.000000      2.000000      2.000000\n",
       "50%        2.000000      2.000000      2.000000      2.000000\n",
       "75%        4.000000      4.000000      4.000000      4.000000\n",
       "max       20.000000     20.000000     20.000000     20.000000"
      ]
     },
     "execution_count": 19,
     "metadata": {},
     "output_type": "execute_result"
    }
   ],
   "source": [
    "print(\"distribution of trips per user\")\n",
    "df.groupby([\"uid\", \"tid\"]).count().groupby(\"uid\").count().describe()"
   ]
  },
  {
   "cell_type": "code",
   "execution_count": 20,
   "metadata": {},
   "outputs": [
    {
     "name": "stdout",
     "output_type": "stream",
     "text": [
      "tile count and average tile area in square km\n"
     ]
    },
    {
     "data": {
      "text/plain": [
       "count    1259.000000\n",
       "mean        6.378799\n",
       "std        16.252493\n",
       "min         0.011397\n",
       "25%         0.271355\n",
       "50%         0.520647\n",
       "75%         2.654677\n",
       "max       187.911550\n",
       "dtype: float64"
      ]
     },
     "execution_count": 20,
     "metadata": {},
     "output_type": "execute_result"
    }
   ],
   "source": [
    "print(\"tile count and average tile area in square km\")\n",
    "(tessellation.to_crs(3035).area / 1000000).describe()"
   ]
  },
  {
   "cell_type": "code",
   "execution_count": 21,
   "metadata": {},
   "outputs": [
    {
     "name": "stdout",
     "output_type": "stream",
     "text": [
      "total tile area in square km\n"
     ]
    },
    {
     "data": {
      "text/plain": [
       "8030.908156598319"
      ]
     },
     "execution_count": 21,
     "metadata": {},
     "output_type": "execute_result"
    }
   ],
   "source": [
    "print(\"total tile area in square km\")\n",
    "tessellation.to_crs(3035).area.sum() / 1000000"
   ]
  },
  {
   "cell_type": "code",
   "execution_count": 22,
   "metadata": {},
   "outputs": [
    {
     "data": {
      "text/plain": [
       "False    443481\n",
       "True       2007\n",
       "Name: lng, dtype: int64"
      ]
     },
     "execution_count": 22,
     "metadata": {},
     "output_type": "execute_result"
    }
   ],
   "source": [
    "print(\"outliers (no tile in tessellation)\")\n",
    "df.lng.isna().value_counts()"
   ]
  },
  {
   "cell_type": "code",
   "execution_count": 31,
   "metadata": {},
   "outputs": [
    {
     "data": {
      "text/html": [
       "<div>\n",
       "<style scoped>\n",
       "    .dataframe tbody tr th:only-of-type {\n",
       "        vertical-align: middle;\n",
       "    }\n",
       "\n",
       "    .dataframe tbody tr th {\n",
       "        vertical-align: top;\n",
       "    }\n",
       "\n",
       "    .dataframe thead th {\n",
       "        text-align: right;\n",
       "    }\n",
       "</style>\n",
       "<table border=\"1\" class=\"dataframe\">\n",
       "  <thead>\n",
       "    <tr style=\"text-align: right;\">\n",
       "      <th></th>\n",
       "      <th>uid</th>\n",
       "      <th>tid</th>\n",
       "      <th>datetime</th>\n",
       "      <th>tile_id</th>\n",
       "      <th>lat</th>\n",
       "      <th>lng</th>\n",
       "    </tr>\n",
       "  </thead>\n",
       "  <tbody>\n",
       "    <tr>\n",
       "      <th>438</th>\n",
       "      <td>14792_1</td>\n",
       "      <td>14792_1_1</td>\n",
       "      <td>2018-05-08 16:20:00</td>\n",
       "      <td>005-018</td>\n",
       "      <td>40.486413</td>\n",
       "      <td>-3.367882</td>\n",
       "    </tr>\n",
       "    <tr>\n",
       "      <th>223182</th>\n",
       "      <td>14792_1</td>\n",
       "      <td>14792_1_1</td>\n",
       "      <td>2018-05-08 16:50:00</td>\n",
       "      <td>19-230-000</td>\n",
       "      <td>NaN</td>\n",
       "      <td>NaN</td>\n",
       "    </tr>\n",
       "    <tr>\n",
       "      <th>439</th>\n",
       "      <td>14792_1</td>\n",
       "      <td>14792_1_2</td>\n",
       "      <td>2018-05-09 23:55:00</td>\n",
       "      <td>19-230-000</td>\n",
       "      <td>NaN</td>\n",
       "      <td>NaN</td>\n",
       "    </tr>\n",
       "    <tr>\n",
       "      <th>223183</th>\n",
       "      <td>14792_1</td>\n",
       "      <td>14792_1_2</td>\n",
       "      <td>2018-05-08 01:00:00</td>\n",
       "      <td>005-018</td>\n",
       "      <td>40.486413</td>\n",
       "      <td>-3.367882</td>\n",
       "    </tr>\n",
       "  </tbody>\n",
       "</table>\n",
       "</div>"
      ],
      "text/plain": [
       "            uid        tid             datetime     tile_id        lat  \\\n",
       "438     14792_1  14792_1_1  2018-05-08 16:20:00     005-018  40.486413   \n",
       "223182  14792_1  14792_1_1  2018-05-08 16:50:00  19-230-000        NaN   \n",
       "439     14792_1  14792_1_2  2018-05-09 23:55:00  19-230-000        NaN   \n",
       "223183  14792_1  14792_1_2  2018-05-08 01:00:00     005-018  40.486413   \n",
       "\n",
       "             lng  \n",
       "438    -3.367882  \n",
       "223182       NaN  \n",
       "439          NaN  \n",
       "223183 -3.367882  "
      ]
     },
     "execution_count": 31,
     "metadata": {},
     "output_type": "execute_result"
    }
   ],
   "source": [
    "df[df.uid == \"14792_1\"].sort_values(\"tid\")"
   ]
  },
  {
   "cell_type": "markdown",
   "metadata": {},
   "source": []
  }
 ],
 "metadata": {
  "interpreter": {
   "hash": "12447f89500073fb8dae2639cdf38a923a59a0e886a98dbef10ce1872cef5ac4"
  },
  "kernelspec": {
   "display_name": "Python 3.9.7 64-bit ('md_report': conda)",
   "language": "python",
   "name": "python3"
  },
  "language_info": {
   "codemirror_mode": {
    "name": "ipython",
    "version": 3
   },
   "file_extension": ".py",
   "mimetype": "text/x-python",
   "name": "python",
   "nbconvert_exporter": "python",
   "pygments_lexer": "ipython3",
   "version": "3.9.7"
  },
  "orig_nbformat": 4
 },
 "nbformat": 4,
 "nbformat_minor": 2
}
